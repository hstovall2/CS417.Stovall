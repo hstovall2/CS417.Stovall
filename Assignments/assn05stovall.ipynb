{
 "cells": [
  {
   "cell_type": "markdown",
   "metadata": {},
   "source": [
    "**Assignment**:  Applying the SOLID Principles in Python\n",
    "\n",
    "For each of the five SOLID principles, provide a example in Python that illustrates the design prinicple.\n",
    "\n",
    "| | Principle |\n",
    "|:-:|-----------|\n",
    "| S | Single Responsibility Principle |\n",
    "| O | Open-Closed Principle |\n",
    "| L | Liskhov Substitution Principle |\n",
    "| I | Interface Segregation Principle |\n",
    "| D | Dependency Inversion Principle |\n",
    "\n",
    "\n",
    "1. S: Single Responsibility Principle"
   ]
  },
  {
   "cell_type": "code",
   "execution_count": null,
   "metadata": {},
   "outputs": [],
   "source": [
    "class Book:\n",
    "    def __init__(self, title, author):\n",
    "        self.title = title\n",
    "        self.author = author\n",
    "\n",
    "    def getTitle(self):\n",
    "        return self.title\n",
    "\n",
    "class BookPrinter:\n",
    "    def printDetails(self, book):\n",
    "        print(f\"Title: {book.title}, Author: {book.author}\")\n",
    "\n",
    "book = Book(\"Schindler's Ark\", \"Thomas Keneally\")\n",
    "printer = BookPrinter()\n",
    "printer.printDetails(book)\n",
    "\n",
    "#Each class how a SINGLE responsibility "
   ]
  },
  {
   "cell_type": "markdown",
   "metadata": {},
   "source": [
    "2. O: Open Closed Principle"
   ]
  },
  {
   "cell_type": "code",
   "execution_count": null,
   "metadata": {},
   "outputs": [],
   "source": [
    "class Shape:\n",
    "    def calculateArea(self):\n",
    "        raise NotImplementedError(\"Subclasses should implement this!\")\n",
    "\n",
    "class Rectangle(Shape):\n",
    "    def __init__(self, width, height):\n",
    "        self.width = width\n",
    "        self.height = height\n",
    "\n",
    "    def calculateArea(self):\n",
    "        return self.width * self.height\n",
    "\n",
    "class Circle(Shape):\n",
    "    def __init__(self, radius):\n",
    "        self.radius = radius\n",
    "\n",
    "    def calculateArea(self):\n",
    "        return 3.14 * (self.radius ** 2)\n",
    "\n",
    "\n",
    "shapes = [Rectangle(10, 5), Circle(7), Triangle(6, 8)]\n",
    "\n",
    "for shape in shapes:\n",
    "    print(f\"Area: {shape.calculateArea()}\")\n",
    "\n",
    "#Instead of having to change the existing code, you can simply add shapes by extending the Shape class."
   ]
  },
  {
   "cell_type": "markdown",
   "metadata": {},
   "source": [
    "3. Liskov Substitution Priniciple"
   ]
  },
  {
   "cell_type": "code",
   "execution_count": null,
   "metadata": {},
   "outputs": [],
   "source": [
    "class Bird:\n",
    "    def makeSound(self):\n",
    "        return \"Chirp\"\n",
    "\n",
    "class Duck(Bird):\n",
    "    def makeSound(self):\n",
    "        return \"Quack\"\n",
    "\n",
    "class Owl(Bird):\n",
    "    def makeSound(self):\n",
    "        return \"Hoot\"\n",
    "\n",
    "def playSound(bird: Bird):\n",
    "    print(bird.makeSound())\n",
    "\n",
    "duck = Duck()\n",
    "owl = Owl()\n",
    "\n",
    "playSound(duck) \n",
    "playSound(owl)   \n",
    "\n",
    "#Both classes duck and owl can be plugged into the playSound function without changing the behavior. \n"
   ]
  },
  {
   "cell_type": "markdown",
   "metadata": {},
   "source": [
    "4. Interface Segregation Principle"
   ]
  },
  {
   "cell_type": "code",
   "execution_count": null,
   "metadata": {},
   "outputs": [],
   "source": [
    "class Workable:\n",
    "    def work(self):\n",
    "        pass\n",
    "\n",
    "class Eatable:\n",
    "    def eat(self):\n",
    "        pass\n",
    "\n",
    "class HumanWorker(Workable, Eatable):\n",
    "    def work(self):\n",
    "        print(\"Human working\")\n",
    "\n",
    "    def eat(self):\n",
    "        print(\"Human eating\")\n",
    "\n",
    "class RobotWorker(Workable):\n",
    "    def work(self):\n",
    "        print(\"Robot working\")\n",
    "\n",
    "def startWork(worker: Workable):\n",
    "    worker.work()\n",
    "\n",
    "human = HumanWorker()\n",
    "robot = RobotWorker()\n",
    "\n",
    "startWork(human)  \n",
    "startWork(robot)  \n",
    "\n",
    "#This breaks down a human vs robot worker into their own classes rather than it all being together.\n",
    "#It keeps each class from having to read through irrelavant functions that don't pertain to it. \n"
   ]
  },
  {
   "cell_type": "markdown",
   "metadata": {},
   "source": [
    "5. Dependency Inversion Principle"
   ]
  },
  {
   "cell_type": "code",
   "execution_count": null,
   "metadata": {},
   "outputs": [],
   "source": [
    "class MessageSender:\n",
    "    def send(self, message):\n",
    "        pass\n",
    "\n",
    "class EmailSender(MessageSender):\n",
    "    def send(self, message):\n",
    "        print(f\"Sending email: {message}\")\n",
    "\n",
    "class SMSSender(MessageSender):\n",
    "    def send(self, message):\n",
    "        print(f\"Sending test message: {message}\")\n",
    "\n",
    "class Notification:\n",
    "    def __init__(self, sender: MessageSender):\n",
    "        self.sender = sender\n",
    "\n",
    "    def notify(self, message):\n",
    "        self.sender.send(message)\n",
    "\n",
    "email_sender = EmailSender()\n",
    "notification1 = Notification(email_sender)\n",
    "notification1.notify(\"Hello through email\")\n",
    "\n",
    "sms_sender = SMSSender()\n",
    "notification2 = Notification(sms_sender)\n",
    "notification2.notify(\"Hello through text message\")\n",
    "\n",
    "#Notification depends on MessageSender class"
   ]
  }
 ],
 "metadata": {
  "kernelspec": {
   "display_name": "base",
   "language": "python",
   "name": "python3"
  },
  "language_info": {
   "name": "python",
   "version": "3.11.5"
  },
  "orig_nbformat": 4
 },
 "nbformat": 4,
 "nbformat_minor": 2
}
