{
 "cells": [
  {
   "cell_type": "markdown",
   "id": "63cbc0ea-7cd4-4438-bb32-5b9426d83e09",
   "metadata": {},
   "source": [
    "CS417 Assignment 4: Getting your feet wet in Python\n",
    "---\n",
    "# Instructions\n",
    "Each of the following questions is followed by empty code cell. Add your code for the question to the cell and then execute that cell.  Submit the completed notebook by saving it in your GitHub repository and note in your submission on Blackboard where I can find the file.\n"
   ]
  },
  {
   "cell_type": "markdown",
   "id": "9465d6e4-f49c-438e-9a1d-ccf418e2fed9",
   "metadata": {},
   "source": [
    "## Problem 1 (Easy)\n",
    "Write a word frequency counter: How often does each word\n",
    "  show up in an array of words? Print out a report. (Hint: Use a dictionary to\n",
    "  count of the number of appearances of each word.)"
   ]
  },
  {
   "cell_type": "code",
   "execution_count": null,
   "id": "366de7f5-8efd-4964-afb2-12734c2142e2",
   "metadata": {},
   "outputs": [],
   "source": [
    "def wordCounter(words):\n",
    "    wordCount = {}\n",
    "    for word in words:\n",
    "        if word in wordCount:\n",
    "            wordCount[word] += 1\n",
    "        else:\n",
    "            wordCount[word] = 1\n",
    "    for word, count in wordCount.items():\n",
    "        print(f\"'{word}' appears {count} times\")\n",
    "    words = ['quarterback', 'receiver', 'quarterback', 'runningback', 'linebacker', 'receiver', 'cornerback', 'quarterback', 'linebacker']\n",
    "    wordCounter(words)"
   ]
  },
  {
   "cell_type": "markdown",
   "id": "15b4b2ce-9118-4abb-9bbf-ed787721f87c",
   "metadata": {},
   "source": [
    "## Problem 2 (Easy)\n",
    "Given a month and the day of the week that’s the first of\n",
    "  that month entered as arugments on the command line, write a program\n",
    "  that prints a calendar for the month. (HINT: Remember one of the rules of being Pythonic: *Someone else has already done it*.  Do some research to see if you can find a Python library that will help you with this problem)."
   ]
  },
  {
   "cell_type": "code",
   "execution_count": null,
   "id": "2b365fa9-c81c-4149-9e8f-eda14255d50c",
   "metadata": {},
   "outputs": [],
   "source": [
    "import calendar\n",
    "import sys\n",
    "\n",
    "def printCalendar(month, year, firstWeekday):\n",
    "    cal = calendar.TextCalendar(firstweekday=firstWeekday)\n",
    "    cal.prmonth(year, month)\n",
    "    if len(sys.argv) != 4:\n",
    "        print(\"Usage: python script.py <month> <year> <first_weekday>\")\n",
    "    else:\n",
    "        month = int(sys.argv[1])\n",
    "        year = int(sys.argv[2])\n",
    "        firstWeekday = int(sys.argv[3])\n",
    "        if month < 1 or month > 12:\n",
    "            print(\"Wrong month. Please provide a month between 1 and 12.\")\n",
    "        elif firstWeekday < 0 or firstWeekday > 6:\n",
    "            print(\"Wrong weekday. Please provide a first weekday between 0 (Monday) and 6 (Sunday).\")\n",
    "        else:\n",
    "            printCalendar(month, year, firstWeekday)\n"
   ]
  },
  {
   "cell_type": "markdown",
   "id": "a7e29bca-2e3e-4cb2-a768-47215582850e",
   "metadata": {},
   "source": [
    "## Problem 3 (Easy)\n",
    "Write a function that counts the the characters in a\n",
    "  string input by the user.  Write a main function that calls this\n",
    "  function and displays the string and number of characters."
   ]
  },
  {
   "cell_type": "code",
   "execution_count": null,
   "id": "f6189d14-e493-4473-a9cd-bffc9560160c",
   "metadata": {},
   "outputs": [],
   "source": [
    "def countCharacters(inputString):\n",
    "    return len(inputString)\n",
    "\n",
    "def main():\n",
    "    userInput = input(\"Input a string: \")\n",
    "    characterCount = countCharacters(userInput)\n",
    "    print(f\"String: {userInput}\")\n",
    "    print(f\"Number of characters: {characterCount}\")\n",
    "    main()\n"
   ]
  },
  {
   "cell_type": "markdown",
   "id": "d460ad3f",
   "metadata": {},
   "source": [
    "# Problem 4 (Moderate, but Painfully Simple)\n",
    "\n",
    "You are writing a test framework in Python and you need to determine what are the attributes and methods of an object.    Write a function (whose body, if you're careful about it, need only be a single statement) that returns a list of the attributes and methods of an object passed to it as an argument."
   ]
  },
  {
   "cell_type": "code",
   "execution_count": null,
   "id": "6dcfd557",
   "metadata": {},
   "outputs": [],
   "source": [
    "def getAttributesAndMethods(obj):\n",
    "    return dir(obj)\n",
    "\n",
    "class Test:\n",
    "    def method1(self):\n",
    "        pass\n",
    "    \n",
    "    def method2(self):\n",
    "        pass\n",
    "\n",
    "    attribute1 = \"value\"\n",
    "    \n",
    "obj = Test()\n",
    "attributesAndMethods = getAttributesAndMethods(obj)\n",
    "print(attributesAndMethods)\n"
   ]
  },
  {
   "cell_type": "markdown",
   "id": "72dc799e",
   "metadata": {},
   "source": [
    "# Problem 5 (Moderate)\n",
    "\n",
    "One can parse a fully-parenthesized in-fix expression using two stacks: an operand stack and an operator stack.   You traverse your way through a string containing such an expression and push numbers onto the operand stack and operators onto the operator stack.   When you see a right parenthsis character,  pop two numbers off of the operand stack and pop an operator off of the operator stack, do the operation (add, subtract, multiply, or divide), and push the result back onto the operand stack.   When you reach the end of the expression string, the number on the top of the operand stack is the result (assuming a correctly formatted expression).\n",
    "\n",
    "Write a function in Python that, given a fully-parenthesized in-fix expression in a string, returns the result of evaluating that expression."
   ]
  },
  {
   "cell_type": "code",
   "execution_count": null,
   "id": "3a5e579f",
   "metadata": {},
   "outputs": [],
   "source": [
    "def evaluateExpression(expression):\n",
    "    def applyOperator(Op, a, b):\n",
    "        if Op == '+':\n",
    "            return a + b\n",
    "        elif Op == '-':\n",
    "            return a - b\n",
    "        elif Op == '*':\n",
    "            return a * b\n",
    "        elif Op == '/':\n",
    "            return a / b\n",
    "    operandStack = []\n",
    "    operatorStack = []\n",
    "    i = 0\n",
    "    while i < len(expression):\n",
    "        char = expression[i]\n",
    "        if char.isdigit():\n",
    "            num = 0\n",
    "            while i < len(expression) and expression[i].isdigit():\n",
    "                num = num * 10 + int(expression[i])\n",
    "                i += 1\n",
    "            operandStack.append(num)\n",
    "            continue\n",
    "        elif char in '+-*/':\n",
    "            operatorStack.append(char)\n",
    "        elif char == '(':\n",
    "            operatorStack.append(char)\n",
    "        elif char == ')':\n",
    "            while operatorStack and operatorStack[-1] != '(':\n",
    "                op = operatorStack.pop()\n",
    "                b = operandStack.pop()\n",
    "                a = operandStack.pop()\n",
    "                result = applyOperator(op, a, b)\n",
    "                operandStack.append(result)\n",
    "            operatorStack.pop()\n",
    "        i += 1\n",
    "    return operandStack[0]\n",
    "expression = \"((1+2)*(3+(4*5)))\"\n",
    "result = evaluateExpression(expression)\n",
    "print(result)\n"
   ]
  }
 ],
 "metadata": {
  "kernelspec": {
   "display_name": "Python 3.10.6 64-bit",
   "language": "python",
   "name": "python3"
  },
  "language_info": {
   "codemirror_mode": {
    "name": "ipython",
    "version": 3
   },
   "file_extension": ".py",
   "mimetype": "text/x-python",
   "name": "python",
   "nbconvert_exporter": "python",
   "pygments_lexer": "ipython3",
   "version": "3.10.6"
  },
  "vscode": {
   "interpreter": {
    "hash": "b0fa6594d8f4cbf19f97940f81e996739fb7646882a419484c72d19e05852a7e"
   }
  }
 },
 "nbformat": 4,
 "nbformat_minor": 5
}
